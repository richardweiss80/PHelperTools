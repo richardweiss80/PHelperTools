{
 "cells": [
  {
   "cell_type": "code",
   "execution_count": 18,
   "metadata": {},
   "outputs": [],
   "source": [
    "from malduck import UInt32\n",
    "def emotet_new(data):\n",
    "    # filehash: \n",
    "    # Used for the new emotet version late 2021\n",
    "    hash = 0\n",
    "    # hash = 0\n",
    "    for char in data:\n",
    "        hash = ((hash << 16) + (hash << 6) + ord(char) - hash) & 0xFFFFFFFF\n",
    "    return hash"
   ]
  },
  {
   "cell_type": "markdown",
   "metadata": {},
   "source": [
    "# Define Array for the different libraries\n",
    "Another XOR_KEY is used for the libraries\n",
    "ntdll.dll: 0xe04039e8"
   ]
  },
  {
   "cell_type": "code",
   "execution_count": 3,
   "metadata": {},
   "outputs": [],
   "source": [
    "a= ['kernel32.dll', 'ntdll.dll']"
   ]
  },
  {
   "cell_type": "code",
   "execution_count": 19,
   "metadata": {},
   "outputs": [
    {
     "name": "stdout",
     "output_type": "stream",
     "text": [
      "0xbd10ff8e\n",
      "0xe04039e8\n"
     ]
    }
   ],
   "source": [
    "for i in a:\n",
    "    print(hex(emotet_new(i) ^ 0x326E19FC))"
   ]
  },
  {
   "cell_type": "code",
   "execution_count": null,
   "metadata": {},
   "outputs": [],
   "source": []
  }
 ],
 "metadata": {
  "interpreter": {
   "hash": "dc4b4e4f23bbad06c8ec742bbfad650ba68a94d01602668c5504fd2290c0b9c1"
  },
  "kernelspec": {
   "display_name": "Python 3.9.6 64-bit ('devel': venv)",
   "language": "python",
   "name": "python3"
  },
  "language_info": {
   "codemirror_mode": {
    "name": "ipython",
    "version": 3
   },
   "file_extension": ".py",
   "mimetype": "text/x-python",
   "name": "python",
   "nbconvert_exporter": "python",
   "pygments_lexer": "ipython3",
   "version": "3.9.6"
  },
  "orig_nbformat": 4
 },
 "nbformat": 4,
 "nbformat_minor": 2
}
